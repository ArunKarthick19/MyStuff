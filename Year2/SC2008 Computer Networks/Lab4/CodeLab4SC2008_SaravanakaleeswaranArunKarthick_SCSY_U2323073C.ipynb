{
 "cells": [
  {
   "cell_type": "markdown",
   "metadata": {},
   "source": [
    "# LAB 4: ANALZING NETWORK DATA LOG"
   ]
  },
  {
   "cell_type": "code",
   "execution_count": 118,
   "metadata": {},
   "outputs": [],
   "source": [
    "import numpy as np\n",
    "import pandas as pd\n",
    "import seaborn as sb\n",
    "import matplotlib.pyplot as plt \n",
    "sb.set() \n",
    "\n",
    "\n",
    "\n"
   ]
  },
  {
   "cell_type": "code",
   "execution_count": 119,
   "metadata": {},
   "outputs": [
    {
     "name": "stdout",
     "output_type": "stream",
     "text": [
      "Requirement already satisfied: ipwhois in c:\\users\\arunk\\appdata\\local\\programs\\python\\python311\\lib\\site-packages (1.3.0)Note: you may need to restart the kernel to use updated packages.\n",
      "\n",
      "Requirement already satisfied: dnspython in c:\\users\\arunk\\appdata\\local\\programs\\python\\python311\\lib\\site-packages (from ipwhois) (2.7.0)\n",
      "Requirement already satisfied: defusedxml in c:\\users\\arunk\\appdata\\local\\programs\\python\\python311\\lib\\site-packages (from ipwhois) (0.7.1)\n"
     ]
    },
    {
     "name": "stderr",
     "output_type": "stream",
     "text": [
      "WARNING: Ignoring invalid distribution ~ip (c:\\Users\\arunk\\AppData\\Local\\Programs\\Python\\Python311\\Lib\\site-packages)\n",
      "WARNING: Ignoring invalid distribution ~ip (c:\\Users\\arunk\\AppData\\Local\\Programs\\Python\\Python311\\Lib\\site-packages)\n",
      "WARNING: Ignoring invalid distribution ~ip (c:\\Users\\arunk\\AppData\\Local\\Programs\\Python\\Python311\\Lib\\site-packages)\n"
     ]
    }
   ],
   "source": [
    "pip install ipwhois\n"
   ]
  },
  {
   "cell_type": "code",
   "execution_count": 120,
   "metadata": {},
   "outputs": [],
   "source": [
    "from ipwhois import IPWhois\n",
    "\n",
    "format = ['Type', 'sflow_agent_address', 'inputPort', 'outputPort',\n",
    "               'src_MAC', 'dst_MAC', 'ethernet_type', 'in_vlan', 'out_vlan',\n",
    "               'src_IP', 'dst_IP', 'IP_protocol', 'ip_tos', 'ip_ttl',\n",
    "               'src_transport_port', 'dst_transport_port', 'tcp_flags',\n",
    "               'packet_size', 'IP_size', 'sampling_rate', '???']"
   ]
  },
  {
   "cell_type": "code",
   "execution_count": 121,
   "metadata": {},
   "outputs": [
    {
     "data": {
      "text/html": [
       "<div>\n",
       "<style scoped>\n",
       "    .dataframe tbody tr th:only-of-type {\n",
       "        vertical-align: middle;\n",
       "    }\n",
       "\n",
       "    .dataframe tbody tr th {\n",
       "        vertical-align: top;\n",
       "    }\n",
       "\n",
       "    .dataframe thead th {\n",
       "        text-align: right;\n",
       "    }\n",
       "</style>\n",
       "<table border=\"1\" class=\"dataframe\">\n",
       "  <thead>\n",
       "    <tr style=\"text-align: right;\">\n",
       "      <th></th>\n",
       "      <th>Type</th>\n",
       "      <th>sflow_agent_address</th>\n",
       "      <th>inputPort</th>\n",
       "      <th>outputPort</th>\n",
       "      <th>src_MAC</th>\n",
       "      <th>dst_MAC</th>\n",
       "      <th>ethernet_type</th>\n",
       "      <th>in_vlan</th>\n",
       "      <th>out_vlan</th>\n",
       "      <th>src_IP</th>\n",
       "      <th>dst_IP</th>\n",
       "      <th>IP_protocol</th>\n",
       "      <th>ip_tos</th>\n",
       "      <th>ip_ttl</th>\n",
       "      <th>src_transport_port</th>\n",
       "      <th>dst_transport_port</th>\n",
       "      <th>tcp_flags</th>\n",
       "      <th>packet_size</th>\n",
       "      <th>IP_size</th>\n",
       "      <th>sampling_rate</th>\n",
       "    </tr>\n",
       "  </thead>\n",
       "  <tbody>\n",
       "    <tr>\n",
       "      <th>0</th>\n",
       "      <td>FLOW</td>\n",
       "      <td>203.30.38.251</td>\n",
       "      <td>137</td>\n",
       "      <td>200</td>\n",
       "      <td>d404ff55fd4d</td>\n",
       "      <td>80711fc76001</td>\n",
       "      <td>0x0800</td>\n",
       "      <td>919</td>\n",
       "      <td>280</td>\n",
       "      <td>130.246.176.22</td>\n",
       "      <td>140.115.32.81</td>\n",
       "      <td>6</td>\n",
       "      <td>0x00</td>\n",
       "      <td>50</td>\n",
       "      <td>51216</td>\n",
       "      <td>23505</td>\n",
       "      <td>0x10</td>\n",
       "      <td>1518</td>\n",
       "      <td>1500</td>\n",
       "      <td>2048</td>\n",
       "    </tr>\n",
       "    <tr>\n",
       "      <th>1</th>\n",
       "      <td>FLOW</td>\n",
       "      <td>203.30.38.251</td>\n",
       "      <td>129</td>\n",
       "      <td>193</td>\n",
       "      <td>609c9f851b00</td>\n",
       "      <td>0031466b23cf</td>\n",
       "      <td>0x0800</td>\n",
       "      <td>11</td>\n",
       "      <td>919</td>\n",
       "      <td>155.69.160.32</td>\n",
       "      <td>64.233.188.128</td>\n",
       "      <td>6</td>\n",
       "      <td>0x00</td>\n",
       "      <td>56</td>\n",
       "      <td>23159</td>\n",
       "      <td>80</td>\n",
       "      <td>0x10</td>\n",
       "      <td>74</td>\n",
       "      <td>52</td>\n",
       "      <td>2048</td>\n",
       "    </tr>\n",
       "    <tr>\n",
       "      <th>2</th>\n",
       "      <td>FLOW</td>\n",
       "      <td>203.30.38.251</td>\n",
       "      <td>137</td>\n",
       "      <td>200</td>\n",
       "      <td>d404ff55fd4d</td>\n",
       "      <td>80711fc76001</td>\n",
       "      <td>0x0800</td>\n",
       "      <td>919</td>\n",
       "      <td>280</td>\n",
       "      <td>130.246.176.53</td>\n",
       "      <td>140.115.32.83</td>\n",
       "      <td>6</td>\n",
       "      <td>0x00</td>\n",
       "      <td>50</td>\n",
       "      <td>50041</td>\n",
       "      <td>20739</td>\n",
       "      <td>0x10</td>\n",
       "      <td>1518</td>\n",
       "      <td>1500</td>\n",
       "      <td>2048</td>\n",
       "    </tr>\n",
       "    <tr>\n",
       "      <th>3</th>\n",
       "      <td>FLOW</td>\n",
       "      <td>203.30.38.251</td>\n",
       "      <td>129</td>\n",
       "      <td>135</td>\n",
       "      <td>609c9f851b00</td>\n",
       "      <td>002688cd5fc7</td>\n",
       "      <td>0x0800</td>\n",
       "      <td>11</td>\n",
       "      <td>919</td>\n",
       "      <td>155.69.160.32</td>\n",
       "      <td>54.169.174.79</td>\n",
       "      <td>17</td>\n",
       "      <td>0x00</td>\n",
       "      <td>120</td>\n",
       "      <td>54241</td>\n",
       "      <td>26510</td>\n",
       "      <td>0x10</td>\n",
       "      <td>116</td>\n",
       "      <td>94</td>\n",
       "      <td>2048</td>\n",
       "    </tr>\n",
       "    <tr>\n",
       "      <th>4</th>\n",
       "      <td>FLOW</td>\n",
       "      <td>203.30.38.251</td>\n",
       "      <td>130</td>\n",
       "      <td>199</td>\n",
       "      <td>00239cd087c1</td>\n",
       "      <td>544b8cf9a7df</td>\n",
       "      <td>0x0800</td>\n",
       "      <td>919</td>\n",
       "      <td>600</td>\n",
       "      <td>137.132.228.15</td>\n",
       "      <td>193.62.192.8</td>\n",
       "      <td>6</td>\n",
       "      <td>0x00</td>\n",
       "      <td>56</td>\n",
       "      <td>53923</td>\n",
       "      <td>34262</td>\n",
       "      <td>0x10</td>\n",
       "      <td>70</td>\n",
       "      <td>52</td>\n",
       "      <td>2048</td>\n",
       "    </tr>\n",
       "    <tr>\n",
       "      <th>5</th>\n",
       "      <td>FLOW</td>\n",
       "      <td>203.30.38.251</td>\n",
       "      <td>129</td>\n",
       "      <td>135</td>\n",
       "      <td>609c9f851b00</td>\n",
       "      <td>002688cd5fc7</td>\n",
       "      <td>0x0800</td>\n",
       "      <td>11</td>\n",
       "      <td>919</td>\n",
       "      <td>155.69.160.32</td>\n",
       "      <td>54.255.221.151</td>\n",
       "      <td>17</td>\n",
       "      <td>0x00</td>\n",
       "      <td>120</td>\n",
       "      <td>55069</td>\n",
       "      <td>26509</td>\n",
       "      <td>0x10</td>\n",
       "      <td>113</td>\n",
       "      <td>91</td>\n",
       "      <td>2048</td>\n",
       "    </tr>\n",
       "    <tr>\n",
       "      <th>6</th>\n",
       "      <td>FLOW</td>\n",
       "      <td>203.30.38.251</td>\n",
       "      <td>130</td>\n",
       "      <td>199</td>\n",
       "      <td>00239cd087c1</td>\n",
       "      <td>544b8cf9a7df</td>\n",
       "      <td>0x0800</td>\n",
       "      <td>919</td>\n",
       "      <td>600</td>\n",
       "      <td>137.132.250.8</td>\n",
       "      <td>193.62.193.9</td>\n",
       "      <td>6</td>\n",
       "      <td>0x00</td>\n",
       "      <td>62</td>\n",
       "      <td>27419</td>\n",
       "      <td>80</td>\n",
       "      <td>0x10</td>\n",
       "      <td>58</td>\n",
       "      <td>40</td>\n",
       "      <td>2048</td>\n",
       "    </tr>\n",
       "    <tr>\n",
       "      <th>7</th>\n",
       "      <td>FLOW</td>\n",
       "      <td>203.30.38.251</td>\n",
       "      <td>137</td>\n",
       "      <td>200</td>\n",
       "      <td>d404ff55fd4d</td>\n",
       "      <td>80711fc76001</td>\n",
       "      <td>0x0800</td>\n",
       "      <td>919</td>\n",
       "      <td>280</td>\n",
       "      <td>193.61.196.206</td>\n",
       "      <td>140.110.147.170</td>\n",
       "      <td>6</td>\n",
       "      <td>0x00</td>\n",
       "      <td>240</td>\n",
       "      <td>443</td>\n",
       "      <td>43545</td>\n",
       "      <td>0x18</td>\n",
       "      <td>1518</td>\n",
       "      <td>1500</td>\n",
       "      <td>2048</td>\n",
       "    </tr>\n",
       "    <tr>\n",
       "      <th>8</th>\n",
       "      <td>FLOW</td>\n",
       "      <td>203.30.38.251</td>\n",
       "      <td>200</td>\n",
       "      <td>3</td>\n",
       "      <td>80711fc76001</td>\n",
       "      <td>00235ed9b680</td>\n",
       "      <td>0x0800</td>\n",
       "      <td>280</td>\n",
       "      <td>32</td>\n",
       "      <td>137.189.133.62</td>\n",
       "      <td>123.136.64.7</td>\n",
       "      <td>6</td>\n",
       "      <td>0x00</td>\n",
       "      <td>58</td>\n",
       "      <td>6345</td>\n",
       "      <td>34921</td>\n",
       "      <td>0x10</td>\n",
       "      <td>1342</td>\n",
       "      <td>1320</td>\n",
       "      <td>2048</td>\n",
       "    </tr>\n",
       "    <tr>\n",
       "      <th>9</th>\n",
       "      <td>FLOW</td>\n",
       "      <td>203.30.38.251</td>\n",
       "      <td>199</td>\n",
       "      <td>130</td>\n",
       "      <td>544b8cf9a7df</td>\n",
       "      <td>00239cd087c1</td>\n",
       "      <td>0x0800</td>\n",
       "      <td>600</td>\n",
       "      <td>919</td>\n",
       "      <td>193.62.192.8</td>\n",
       "      <td>137.132.228.15</td>\n",
       "      <td>6</td>\n",
       "      <td>0x08</td>\n",
       "      <td>55</td>\n",
       "      <td>34262</td>\n",
       "      <td>53923</td>\n",
       "      <td>0x10</td>\n",
       "      <td>1442</td>\n",
       "      <td>1420</td>\n",
       "      <td>2048</td>\n",
       "    </tr>\n",
       "  </tbody>\n",
       "</table>\n",
       "</div>"
      ],
      "text/plain": [
       "   Type sflow_agent_address  inputPort  outputPort       src_MAC  \\\n",
       "0  FLOW       203.30.38.251        137         200  d404ff55fd4d   \n",
       "1  FLOW       203.30.38.251        129         193  609c9f851b00   \n",
       "2  FLOW       203.30.38.251        137         200  d404ff55fd4d   \n",
       "3  FLOW       203.30.38.251        129         135  609c9f851b00   \n",
       "4  FLOW       203.30.38.251        130         199  00239cd087c1   \n",
       "5  FLOW       203.30.38.251        129         135  609c9f851b00   \n",
       "6  FLOW       203.30.38.251        130         199  00239cd087c1   \n",
       "7  FLOW       203.30.38.251        137         200  d404ff55fd4d   \n",
       "8  FLOW       203.30.38.251        200           3  80711fc76001   \n",
       "9  FLOW       203.30.38.251        199         130  544b8cf9a7df   \n",
       "\n",
       "        dst_MAC ethernet_type  in_vlan  out_vlan          src_IP  \\\n",
       "0  80711fc76001        0x0800      919       280  130.246.176.22   \n",
       "1  0031466b23cf        0x0800       11       919   155.69.160.32   \n",
       "2  80711fc76001        0x0800      919       280  130.246.176.53   \n",
       "3  002688cd5fc7        0x0800       11       919   155.69.160.32   \n",
       "4  544b8cf9a7df        0x0800      919       600  137.132.228.15   \n",
       "5  002688cd5fc7        0x0800       11       919   155.69.160.32   \n",
       "6  544b8cf9a7df        0x0800      919       600   137.132.250.8   \n",
       "7  80711fc76001        0x0800      919       280  193.61.196.206   \n",
       "8  00235ed9b680        0x0800      280        32  137.189.133.62   \n",
       "9  00239cd087c1        0x0800      600       919    193.62.192.8   \n",
       "\n",
       "            dst_IP  IP_protocol ip_tos  ip_ttl  src_transport_port  \\\n",
       "0    140.115.32.81            6   0x00      50               51216   \n",
       "1   64.233.188.128            6   0x00      56               23159   \n",
       "2    140.115.32.83            6   0x00      50               50041   \n",
       "3    54.169.174.79           17   0x00     120               54241   \n",
       "4     193.62.192.8            6   0x00      56               53923   \n",
       "5   54.255.221.151           17   0x00     120               55069   \n",
       "6     193.62.193.9            6   0x00      62               27419   \n",
       "7  140.110.147.170            6   0x00     240                 443   \n",
       "8     123.136.64.7            6   0x00      58                6345   \n",
       "9   137.132.228.15            6   0x08      55               34262   \n",
       "\n",
       "   dst_transport_port tcp_flags  packet_size  IP_size  sampling_rate  \n",
       "0               23505      0x10         1518     1500           2048  \n",
       "1                  80      0x10           74       52           2048  \n",
       "2               20739      0x10         1518     1500           2048  \n",
       "3               26510      0x10          116       94           2048  \n",
       "4               34262      0x10           70       52           2048  \n",
       "5               26509      0x10          113       91           2048  \n",
       "6                  80      0x10           58       40           2048  \n",
       "7               43545      0x18         1518     1500           2048  \n",
       "8               34921      0x10         1342     1320           2048  \n",
       "9               53923      0x10         1442     1420           2048  "
      ]
     },
     "execution_count": 121,
     "metadata": {},
     "output_type": "execute_result"
    }
   ],
   "source": [
    "df = pd.read_csv('Data_3.csv', header = None, names = format)\n",
    "df.drop('???', axis=1, inplace = True) # Drop column with null values\n",
    "df.head(10)\n",
    "     "
   ]
  },
  {
   "cell_type": "markdown",
   "metadata": {},
   "source": [
    "## Excercise 4A: Top Talkers and Listerners"
   ]
  },
  {
   "cell_type": "markdown",
   "metadata": {},
   "source": [
    "### Top Talkers"
   ]
  },
  {
   "cell_type": "markdown",
   "metadata": {},
   "source": [
    "#### The top_talkers dataframe is created by counting the occurrences of each source IP address (src_IP) and selecting the top 5 with the most packets sent."
   ]
  },
  {
   "cell_type": "code",
   "execution_count": 122,
   "metadata": {},
   "outputs": [
    {
     "name": "stdout",
     "output_type": "stream",
     "text": [
      "Top 5 Talkers (Senders):\n",
      "       IP Address  no of packets     organisations\n",
      "0   193.62.192.8           3041      EUR-BIO-INST\n",
      "1  155.69.160.32           2975           NTUNET1\n",
      "2  130.14.250.11           2604         NLM-ETHER\n",
      "3  14.139.196.58           2452       NKN-IIT-GUW\n",
      "4  140.112.8.139           2056  T-NTU.EDU.TW-NET\n"
     ]
    }
   ],
   "source": [
    "def get_organization(ip):\n",
    "    ipwhois = IPWhois(ip)\n",
    "    try:\n",
    "        result = ipwhois.lookup_rdap()\n",
    "        organization = result.get('network', {}).get('name', 'Unknown')\n",
    "    except Exception as e:\n",
    "        organization = 'Unknown'\n",
    "    return organization\n",
    "\n",
    "# Get the top 5 talkers\n",
    "top_talkers = df['src_IP'].value_counts().head(5).reset_index()\n",
    "top_talkers.columns = ['IP Address', 'no of packets']\n",
    "\n",
    "# Add organization names for each IP address\n",
    "top_talkers['organisations'] = top_talkers['IP Address'].apply(get_organization)\n",
    "\n",
    "print(\"Top 5 Talkers (Senders):\\n\", top_talkers)"
   ]
  },
  {
   "cell_type": "markdown",
   "metadata": {},
   "source": [
    "### Top Listeners"
   ]
  },
  {
   "cell_type": "markdown",
   "metadata": {},
   "source": [
    "#### The top_listeners dataframe is created by counting the occurrences of each destination IP address (dst_IP) in the dataset and selecting the top 5 with the most packets received."
   ]
  },
  {
   "cell_type": "code",
   "execution_count": 123,
   "metadata": {},
   "outputs": [
    {
     "name": "stdout",
     "output_type": "stream",
     "text": [
      "Top 5 Listeners (Receivers):\n",
      "         IP Address  no of packets organisations\n",
      "0   103.37.198.100           3841  A-STAR-AS-AP\n",
      "1   137.132.228.15           3715        NUSNET\n",
      "2   202.21.159.244           2446         RPNET\n",
      "3  192.101.107.153           2368          PNNL\n",
      "4     103.21.126.2           2056       IITB-IN\n"
     ]
    }
   ],
   "source": [
    "# Get the top 5 listeners (destination IPs)\n",
    "top_listeners = df['dst_IP'].value_counts().head(5).reset_index()\n",
    "top_listeners.columns = ['IP Address', 'no of packets']\n",
    "\n",
    "# Add organization names for each IP address\n",
    "top_listeners['organisations'] = top_listeners['IP Address'].apply(get_organization)\n",
    "\n",
    "print(\"Top 5 Listeners (Receivers):\\n\", top_listeners)\n"
   ]
  },
  {
   "cell_type": "markdown",
   "metadata": {},
   "source": [
    "## Excercise 4B: Transport Protocol"
   ]
  },
  {
   "cell_type": "markdown",
   "metadata": {},
   "source": [
    "#### In this analysis, we are calculating the percentage of TCP and UDP packets in the dataset"
   ]
  },
  {
   "cell_type": "code",
   "execution_count": 124,
   "metadata": {},
   "outputs": [
    {
     "name": "stdout",
     "output_type": "stream",
     "text": [
      "TCP Percentage: 80.82%\n",
      "UDP Percentage: 13.64%\n",
      "\n",
      "Protocol Percentage Breakdown:\n",
      "   Header value       Transport layer protocol  Percentage  # of packets\n",
      "0          TCP  Transmission Control Protocol   80.818798         56064\n",
      "1          UDP         User Datagram Protocol   13.639902          9462\n"
     ]
    }
   ],
   "source": [
    "# Filter out the relevant rows for TCP (IP_protocol == 6) and UDP (IP_protocol == 17)\n",
    "tcp_packets = df[df['IP_protocol'] == 6].shape[0]\n",
    "udp_packets = df[df['IP_protocol'] == 17].shape[0]\n",
    "\n",
    "# Get the total number of packets\n",
    "total_packets = df.shape[0]\n",
    "\n",
    "# Calculate the percentage for TCP and UDP\n",
    "tcp_percentage = (tcp_packets / total_packets) * 100\n",
    "udp_percentage = (udp_packets / total_packets) * 100\n",
    "\n",
    "# Display the results\n",
    "print(f\"TCP Percentage: {tcp_percentage:.2f}%\")\n",
    "print(f\"UDP Percentage: {udp_percentage:.2f}%\")\n",
    "\n",
    "# You can also create a summary DataFrame if needed\n",
    "protocol_percentage = pd.DataFrame({\n",
    "    'Header value': ['TCP', 'UDP'],\n",
    "    'Transport layer protocol': ['Transmission Control Protocol', 'User Datagram Protocol'],\n",
    "    'Percentage': [tcp_percentage, udp_percentage],\n",
    "    '# of packets': [tcp_packets, udp_packets]\n",
    "})\n",
    "\n",
    "print(\"\\nProtocol Percentage Breakdown:\\n\", protocol_percentage)\n"
   ]
  },
  {
   "cell_type": "markdown",
   "metadata": {},
   "source": [
    "## Excercise 4C: Application Protocol"
   ]
  },
  {
   "cell_type": "markdown",
   "metadata": {},
   "source": [
    "#### We first analyze the top 5 most frequently used destination ports in a network traffic dataset and displays them along with the number of packets sent to each port"
   ]
  },
  {
   "cell_type": "code",
   "execution_count": null,
   "metadata": {},
   "outputs": [
    {
     "name": "stdout",
     "output_type": "stream",
     "text": [
      "Top 5 Most Frequent Destination Ports and their Services:\n",
      "    Destination IP Port Number  Number of Packets\n",
      "0                         443              13423\n",
      "1                          80               2647\n",
      "2                       52866               2068\n",
      "3                       45512               1356\n",
      "4                       56152               1341\n"
     ]
    }
   ],
   "source": [
    "\n",
    "# Group by destination port and count the number of packets\n",
    "port_counts = df['dst_transport_port'].value_counts().head(5).reset_index()\n",
    "port_counts.columns = ['Destination IP Port Number', 'Number of Packets']\n",
    "\n",
    "\n",
    "\n",
    "# Display the top 5 most frequent destination ports with the service name\n",
    "print(\"Top 5 Most Frequent Destination Ports and their Services:\\n\", port_counts)\n"
   ]
  },
  {
   "cell_type": "markdown",
   "metadata": {},
   "source": [
    "#### Once we figure out the port number, we  map them accordingly. We got the mapping information from https://www.adminsub.net/tcp-udp-port-finder"
   ]
  },
  {
   "cell_type": "code",
   "execution_count": 126,
   "metadata": {},
   "outputs": [
    {
     "name": "stdout",
     "output_type": "stream",
     "text": [
      "Top 5 Most Frequent Destination Ports and their Services:\n",
      "    Destination IP Port Number  Number of Packets                       Service\n",
      "0                         443              13423                         HTTPS\n",
      "1                          80               2647                          HTTP\n",
      "2                       52866               2068  Dynamic and/or Private Ports\n",
      "3                       45512               1356                    Unassigned\n",
      "4                       56152               1341  Dynamic and/or Private Ports\n"
     ]
    }
   ],
   "source": [
    "port_service_mapping = {\n",
    "    80: 'HTTP',\n",
    "    443: 'HTTPS',\n",
    "    52866: 'Dynamic and/or Private Ports',\n",
    "    45512: 'Unassigned',\n",
    "    56152: 'Dynamic and/or Private Ports'\n",
    "}\n",
    "\n",
    "\n",
    "# Group by destination port and count the number of packets\n",
    "port_counts = df['dst_transport_port'].value_counts().head(5).reset_index()\n",
    "port_counts.columns = ['Destination IP Port Number', 'Number of Packets']\n",
    "\n",
    "# Map the port numbers to services\n",
    "port_counts['Service'] = port_counts['Destination IP Port Number'].map(port_service_mapping)\n",
    "\n",
    "# Display the top 5 most frequent destination ports with the service name\n",
    "print(\"Top 5 Most Frequent Destination Ports and their Services:\\n\", port_counts)"
   ]
  },
  {
   "cell_type": "markdown",
   "metadata": {},
   "source": [
    "## Excercise 4D: Traffic"
   ]
  },
  {
   "cell_type": "markdown",
   "metadata": {},
   "source": [
    "#### Here we calculate the total network traffic in megabits (Mb) based on the IP_size column in a DataFrame (df)"
   ]
  },
  {
   "cell_type": "code",
   "execution_count": 130,
   "metadata": {},
   "outputs": [
    {
     "name": "stdout",
     "output_type": "stream",
     "text": [
      "Total Traffic (Mb) = 7.722 Mb\n"
     ]
    }
   ],
   "source": [
    "\n",
    "\n",
    "total_traffic = sum(df['IP_size'])\n",
    "# Assuming IP_size is in number of bits\n",
    "total_traffic_Mb = total_traffic / (8 * pow(2, 20))\n",
    "print(f\"Total Traffic (Mb) = {total_traffic_Mb:.3f} Mb\")"
   ]
  },
  {
   "cell_type": "markdown",
   "metadata": {},
   "source": [
    "## Excercise 4E: Additional Analysis"
   ]
  },
  {
   "cell_type": "markdown",
   "metadata": {},
   "source": [
    "#### We can identify the top 5 communication pairs (source IP to destination IP) to understand the most active network interactions. This will provide insights into the major communication flows between devices in the network."
   ]
  },
  {
   "cell_type": "code",
   "execution_count": 131,
   "metadata": {},
   "outputs": [
    {
     "name": "stdout",
     "output_type": "stream",
     "text": [
      "Top 5 Communication Pairs:\n",
      "               src_IP           dst_IP  Count\n",
      "4224    193.62.192.8   137.132.228.15   3041\n",
      "975    130.14.250.11   103.37.198.100   2599\n",
      "1507   14.139.196.58  192.101.107.153   2368\n",
      "1639   140.112.8.139     103.21.126.2   2056\n",
      "1297  137.132.228.15     193.62.192.8   1910\n"
     ]
    }
   ],
   "source": [
    "# Calculate the top 5 communication pairs using the correct column names\n",
    "top_communication_pairs = df.groupby(['src_IP', 'dst_IP']).size().reset_index(name='Count')\n",
    "top_communication_pairs = top_communication_pairs.sort_values(by='Count', ascending=False).head(5)\n",
    "\n",
    "# Display the top 5 communication pairs\n",
    "print(\"Top 5 Communication Pairs:\\n\", top_communication_pairs)\n"
   ]
  },
  {
   "cell_type": "markdown",
   "metadata": {},
   "source": [
    "#### Using the IP_protocol column, we can calculate the percentage of TCP and UDP traffic in the dataset. This helps identify the dominant transport protocols in the traffic."
   ]
  },
  {
   "cell_type": "code",
   "execution_count": 132,
   "metadata": {},
   "outputs": [
    {
     "name": "stdout",
     "output_type": "stream",
     "text": [
      "Protocol Distribution (TCP vs UDP):\n",
      "IP_protocol\n",
      "6      80.818798\n",
      "17     13.639902\n",
      "50      2.447744\n",
      "0       1.817789\n",
      "47      0.947095\n",
      "41      0.149921\n",
      "1       0.106674\n",
      "381     0.064870\n",
      "58      0.005766\n",
      "103     0.001442\n",
      "Name: proportion, dtype: float64\n"
     ]
    }
   ],
   "source": [
    "# Calculate the count of each transport protocol\n",
    "protocol_counts = df['IP_protocol'].value_counts(normalize=True) * 100\n",
    "\n",
    "# Print the protocol distribution\n",
    "print(\"Protocol Distribution (TCP vs UDP):\")\n",
    "print(protocol_counts)\n"
   ]
  }
 ],
 "metadata": {
  "kernelspec": {
   "display_name": "Python 3",
   "language": "python",
   "name": "python3"
  },
  "language_info": {
   "codemirror_mode": {
    "name": "ipython",
    "version": 3
   },
   "file_extension": ".py",
   "mimetype": "text/x-python",
   "name": "python",
   "nbconvert_exporter": "python",
   "pygments_lexer": "ipython3",
   "version": "3.11.5"
  }
 },
 "nbformat": 4,
 "nbformat_minor": 2
}
